{
 "cells": [
  {
   "cell_type": "code",
   "execution_count": 11,
   "metadata": {},
   "outputs": [
    {
     "name": "stdout",
     "output_type": "stream",
     "text": [
      "                        Product Name Original Price HaComp  \\\n",
      "0  BỘ VI XỬ LÝ AMD ATHLON 3000G TRAY                   NaN   \n",
      "1               CPU AMD ATHLON 3000G            1.699.000₫   \n",
      "2              CPU AMD RYZEN 3 3200G            3.299.000₫   \n",
      "3               CPU AMD RYZEN 3 4100            2.499.000₫   \n",
      "4       CPU AMD RYZEN 3 4100 3.8 GHZ                   NaN   \n",
      "\n",
      "  Discounted Price HaComp Original Price AnPhat Discounted Price AnPhat  \\\n",
      "0                     NaN                   NaN                     NaN   \n",
      "1              1.219.000₫                   NaN                     NaN   \n",
      "2              1.899.000₫                   NaN                     NaN   \n",
      "3              1.779.000₫                   NaN                     NaN   \n",
      "4                     NaN             2.499.000               1.669.000   \n",
      "\n",
      "  Original Price NguyenCongPC Discounted Price NguyenCongPC  Score  \\\n",
      "0                  1.790.000Đ                      800.000Đ    NaN   \n",
      "1                         NaN                           NaN    NaN   \n",
      "2                  3.450.000Đ                    2.200.000Đ    NaN   \n",
      "3                         NaN                           NaN    NaN   \n",
      "4                         NaN                           NaN    NaN   \n",
      "\n",
      "   Normalized Score (%)  \n",
      "0                   NaN  \n",
      "1                   NaN  \n",
      "2                   NaN  \n",
      "3                   NaN  \n",
      "4                   NaN  \n"
     ]
    }
   ],
   "source": [
    "import pandas as pd\n",
    "import re\n",
    "from fuzzywuzzy import process\n",
    "\n",
    "# Function to clean up product name by removing everything after '(' including the bracket and its content\n",
    "def clean_product_name(product_name):\n",
    "    # Regular expression to remove everything from the first '(' onward, including '('\n",
    "    cleaned_name = re.sub(r\"\\(.*\", \"\", product_name).strip()\n",
    "    return cleaned_name\n",
    "\n",
    "# Load the CSV files into pandas DataFrames\n",
    "df1 = pd.read_csv(\"HaComp_CPU_List.csv\")  # Replace with your actual file paths\n",
    "df2 = pd.read_csv(\"AnPhat_CPU.csv\")\n",
    "df3 = pd.read_csv(\"NguyenCong_CPU_list.csv\")\n",
    "\n",
    "\n",
    "# Load the CPU performance file\n",
    "cpu_perf_df = pd.read_csv(\"CPU_Performance_list.csv\")\n",
    "\n",
    "# Remove the 'Name' column from df2 (the one with 4 columns)\n",
    "df2 = df2.drop(columns=['Name'], errors='ignore')  # 'errors=ignore' to avoid error if column doesn't exist\n",
    "\n",
    "# Clean the 'Product Name' column in each DataFrame\n",
    "df1['Product Name'] = df1['Product Name'].apply(clean_product_name)\n",
    "df2['Product Name'] = df2['Product Name'].apply(clean_product_name)\n",
    "df3['Product Name'] = df3['Product Name'].apply(clean_product_name)\n",
    "cpu_perf_df['Product Name'] = cpu_perf_df['Product Name'].apply(clean_product_name)\n",
    "\n",
    "# Rename columns for clarity with e-shop names\n",
    "df1 = df1.rename(columns={'Original Price': 'Original Price HaComp', 'Discounted Price': 'Discounted Price HaComp'})\n",
    "df2 = df2.rename(columns={'Original Price': 'Original Price AnPhat', 'Discounted Price': 'Discounted Price AnPhat'})\n",
    "df3 = df3.rename(columns={'Original Price': 'Original Price NguyenCongPC', 'Discounted Price': 'Discounted Price NguyenCongPC'})\n",
    "\n",
    "# Merge the DataFrames on 'Product Name' using an outer join\n",
    "merged_df = pd.merge(df1, df2, on='Product Name', how='outer')\n",
    "merged_df = pd.merge(merged_df, df3, on='Product Name', how='outer')\n",
    "\n",
    "# Merge the CPU performance scores with the merged DataFrame on 'Product Name'\n",
    "merged_df = pd.merge(merged_df, cpu_perf_df[['Product Name', 'Score', 'Normalized Score (%)']], on='Product Name', how='left')\n",
    "\n",
    "# Rename 'Normalized Score' column to 'Normalized Score (%)'\n",
    "merged_df = merged_df.rename(columns={'Normalized Score': 'Normalized Score (%)'})\n",
    "\n",
    "# Optionally, handle missing values (NaNs) if needed, e.g., fill with 0 or other placeholder\n",
    "# merged_df = merged_df.fillna(0)\n",
    "\n",
    "# Save the merged DataFrame to a new CSV file\n",
    "merged_df.to_csv(\"merged_data_with_performance.csv\", index=False)\n",
    "\n",
    "# Print a sample of the merged DataFrame\n",
    "print(merged_df.head())"
   ]
  }
 ],
 "metadata": {
  "kernelspec": {
   "display_name": "Python 3",
   "language": "python",
   "name": "python3"
  },
  "language_info": {
   "codemirror_mode": {
    "name": "ipython",
    "version": 3
   },
   "file_extension": ".py",
   "mimetype": "text/x-python",
   "name": "python",
   "nbconvert_exporter": "python",
   "pygments_lexer": "ipython3",
   "version": "3.10.12"
  }
 },
 "nbformat": 4,
 "nbformat_minor": 2
}
