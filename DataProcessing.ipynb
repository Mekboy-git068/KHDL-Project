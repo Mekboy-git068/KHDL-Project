{
 "cells": [
  {
   "cell_type": "code",
   "execution_count": 1,
   "metadata": {},
   "outputs": [],
   "source": [
    "import pandas as pd\n",
    "import re"
   ]
  },
  {
   "cell_type": "code",
   "execution_count": 6,
   "metadata": {},
   "outputs": [],
   "source": [
    "\n",
    "# Load the CSV files\n",
    "eshop_df = pd.read_csv('HaComp_CPU_List.csv')  # e-shop data\n",
    "cpu_perf_df = pd.read_csv('CPU_Performance_list.csv')  # CPU performance list\n",
    "\n",
    "# Function to clean the product name for matching\n",
    "def clean_product_name(product_name):\n",
    "    if not isinstance(product_name, str):  # Check if the product name is a string\n",
    "        return ''  # If it's not a string (e.g., NaN or blank), return an empty string\n",
    "    # Remove the 'CPU ' prefix and any notes in parentheses\n",
    "    cleaned_name = re.sub(r\"^CPU\\s+\", \"\", product_name)  # Remove 'CPU ' prefix\n",
    "    cleaned_name = re.sub(r\"\\(.*\\)\", \"\", cleaned_name)   # Remove everything inside parentheses\n",
    "    cleaned_name = cleaned_name.strip()  # Remove leading/trailing spaces\n",
    "    return cleaned_name\n",
    "\n",
    "# Handle NaN or blank values in the 'Product Name' column\n",
    "eshop_df['Product Name'] = eshop_df['Product Name'].fillna('')  # Replace NaN with empty string\n",
    "eshop_df['Product Name'] = eshop_df['Product Name'].apply(lambda x: x.strip() if isinstance(x, str) else '')  # Remove leading/trailing spaces\n",
    "\n",
    "# Clean product names in e-shop data\n",
    "eshop_df['Cleaned Product Name'] = eshop_df['Product Name'].apply(clean_product_name)\n",
    "\n",
    "# Merge the data based on cleaned product names\n",
    "merged_df = pd.merge(eshop_df, cpu_perf_df[['Product Name', 'Normalized Score (%)']], \n",
    "                     left_on='Cleaned Product Name', \n",
    "                     right_on='Product Name', \n",
    "                     how='left')\n",
    "\n",
    "# Drop the 'Cleaned Product Name' column as it's not needed in the output\n",
    "merged_df.drop(columns=['Cleaned Product Name', 'Product Name_y'], inplace=True)\n",
    "\n",
    "# Rename the columns for clarity\n",
    "merged_df.rename(columns={'Normalize Score (%)': 'Normalize Score'}, inplace=True)\n",
    "\n",
    "# Save the output to a new CSV file\n",
    "merged_df.to_csv('output_with_scores.csv', index=False)"
   ]
  }
 ],
 "metadata": {
  "kernelspec": {
   "display_name": "Python 3",
   "language": "python",
   "name": "python3"
  },
  "language_info": {
   "codemirror_mode": {
    "name": "ipython",
    "version": 3
   },
   "file_extension": ".py",
   "mimetype": "text/x-python",
   "name": "python",
   "nbconvert_exporter": "python",
   "pygments_lexer": "ipython3",
   "version": "3.10.12"
  }
 },
 "nbformat": 4,
 "nbformat_minor": 2
}
